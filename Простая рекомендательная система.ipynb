{
 "cells": [
  {
   "cell_type": "code",
   "execution_count": 1,
   "id": "013b9f28",
   "metadata": {},
   "outputs": [],
   "source": [
    "import numpy as np\n",
    "import pandas as pd\n",
    "import matplotlib.pyplot as plt"
   ]
  },
  {
   "cell_type": "markdown",
   "id": "002d9989",
   "metadata": {},
   "source": [
    "https://www.chernobrovov.ru/articles/datasets-for-recomendation-systems.html"
   ]
  },
  {
   "cell_type": "markdown",
   "id": "77fce948",
   "metadata": {},
   "source": [
    "Этот набор данных представляет собой список поведений пользователей со столбцами: идентификатор пользователя(User ID), название игры, поведение («покупка» и «игра»), значение(указывает степень, в которой поведение было выполнено — в случае «покупки» значение всегда равно 1, а в случае «игры» значение представляет собой количество часов, в течение которых пользователь играл в игру)."
   ]
  },
  {
   "cell_type": "code",
   "execution_count": 2,
   "id": "b99bc4ad",
   "metadata": {},
   "outputs": [
    {
     "data": {
      "text/html": [
       "<div>\n",
       "<style scoped>\n",
       "    .dataframe tbody tr th:only-of-type {\n",
       "        vertical-align: middle;\n",
       "    }\n",
       "\n",
       "    .dataframe tbody tr th {\n",
       "        vertical-align: top;\n",
       "    }\n",
       "\n",
       "    .dataframe thead th {\n",
       "        text-align: right;\n",
       "    }\n",
       "</style>\n",
       "<table border=\"1\" class=\"dataframe\">\n",
       "  <thead>\n",
       "    <tr style=\"text-align: right;\">\n",
       "      <th></th>\n",
       "      <th>User_ID</th>\n",
       "      <th>Name_game</th>\n",
       "      <th>purchase_play</th>\n",
       "      <th>Game_hours</th>\n",
       "      <th>0</th>\n",
       "    </tr>\n",
       "  </thead>\n",
       "  <tbody>\n",
       "    <tr>\n",
       "      <th>0</th>\n",
       "      <td>151603712</td>\n",
       "      <td>The Elder Scrolls V Skyrim</td>\n",
       "      <td>purchase</td>\n",
       "      <td>1.0</td>\n",
       "      <td>0</td>\n",
       "    </tr>\n",
       "    <tr>\n",
       "      <th>1</th>\n",
       "      <td>151603712</td>\n",
       "      <td>The Elder Scrolls V Skyrim</td>\n",
       "      <td>play</td>\n",
       "      <td>273.0</td>\n",
       "      <td>0</td>\n",
       "    </tr>\n",
       "    <tr>\n",
       "      <th>2</th>\n",
       "      <td>151603712</td>\n",
       "      <td>Fallout 4</td>\n",
       "      <td>purchase</td>\n",
       "      <td>1.0</td>\n",
       "      <td>0</td>\n",
       "    </tr>\n",
       "    <tr>\n",
       "      <th>3</th>\n",
       "      <td>151603712</td>\n",
       "      <td>Fallout 4</td>\n",
       "      <td>play</td>\n",
       "      <td>87.0</td>\n",
       "      <td>0</td>\n",
       "    </tr>\n",
       "    <tr>\n",
       "      <th>4</th>\n",
       "      <td>151603712</td>\n",
       "      <td>Spore</td>\n",
       "      <td>purchase</td>\n",
       "      <td>1.0</td>\n",
       "      <td>0</td>\n",
       "    </tr>\n",
       "    <tr>\n",
       "      <th>...</th>\n",
       "      <td>...</td>\n",
       "      <td>...</td>\n",
       "      <td>...</td>\n",
       "      <td>...</td>\n",
       "      <td>...</td>\n",
       "    </tr>\n",
       "    <tr>\n",
       "      <th>199995</th>\n",
       "      <td>128470551</td>\n",
       "      <td>Titan Souls</td>\n",
       "      <td>play</td>\n",
       "      <td>1.5</td>\n",
       "      <td>0</td>\n",
       "    </tr>\n",
       "    <tr>\n",
       "      <th>199996</th>\n",
       "      <td>128470551</td>\n",
       "      <td>Grand Theft Auto Vice City</td>\n",
       "      <td>purchase</td>\n",
       "      <td>1.0</td>\n",
       "      <td>0</td>\n",
       "    </tr>\n",
       "    <tr>\n",
       "      <th>199997</th>\n",
       "      <td>128470551</td>\n",
       "      <td>Grand Theft Auto Vice City</td>\n",
       "      <td>play</td>\n",
       "      <td>1.5</td>\n",
       "      <td>0</td>\n",
       "    </tr>\n",
       "    <tr>\n",
       "      <th>199998</th>\n",
       "      <td>128470551</td>\n",
       "      <td>RUSH</td>\n",
       "      <td>purchase</td>\n",
       "      <td>1.0</td>\n",
       "      <td>0</td>\n",
       "    </tr>\n",
       "    <tr>\n",
       "      <th>199999</th>\n",
       "      <td>128470551</td>\n",
       "      <td>RUSH</td>\n",
       "      <td>play</td>\n",
       "      <td>1.4</td>\n",
       "      <td>0</td>\n",
       "    </tr>\n",
       "  </tbody>\n",
       "</table>\n",
       "<p>200000 rows × 5 columns</p>\n",
       "</div>"
      ],
      "text/plain": [
       "          User_ID                   Name_game purchase_play  Game_hours  0\n",
       "0       151603712  The Elder Scrolls V Skyrim      purchase         1.0  0\n",
       "1       151603712  The Elder Scrolls V Skyrim          play       273.0  0\n",
       "2       151603712                   Fallout 4      purchase         1.0  0\n",
       "3       151603712                   Fallout 4          play        87.0  0\n",
       "4       151603712                       Spore      purchase         1.0  0\n",
       "...           ...                         ...           ...         ... ..\n",
       "199995  128470551                 Titan Souls          play         1.5  0\n",
       "199996  128470551  Grand Theft Auto Vice City      purchase         1.0  0\n",
       "199997  128470551  Grand Theft Auto Vice City          play         1.5  0\n",
       "199998  128470551                        RUSH      purchase         1.0  0\n",
       "199999  128470551                        RUSH          play         1.4  0\n",
       "\n",
       "[200000 rows x 5 columns]"
      ]
     },
     "execution_count": 2,
     "metadata": {},
     "output_type": "execute_result"
    }
   ],
   "source": [
    "col = ['User_ID', 'Name_game', 'purchase_play', 'Game_hours', '0']\n",
    "df = pd.read_csv('steam.csv', delimiter=',', names = col) \n",
    "df"
   ]
  },
  {
   "cell_type": "code",
   "execution_count": 3,
   "id": "3f27ec69",
   "metadata": {},
   "outputs": [
    {
     "name": "stdout",
     "output_type": "stream",
     "text": [
      "<class 'pandas.core.frame.DataFrame'>\n",
      "RangeIndex: 200000 entries, 0 to 199999\n",
      "Data columns (total 5 columns):\n",
      " #   Column         Non-Null Count   Dtype  \n",
      "---  ------         --------------   -----  \n",
      " 0   User_ID        200000 non-null  int64  \n",
      " 1   Name_game      200000 non-null  object \n",
      " 2   purchase_play  200000 non-null  object \n",
      " 3   Game_hours     200000 non-null  float64\n",
      " 4   0              200000 non-null  int64  \n",
      "dtypes: float64(1), int64(2), object(2)\n",
      "memory usage: 7.6+ MB\n"
     ]
    }
   ],
   "source": [
    "df.info()"
   ]
  },
  {
   "cell_type": "code",
   "execution_count": 4,
   "id": "5fd518a8",
   "metadata": {},
   "outputs": [
    {
     "data": {
      "text/html": [
       "<div>\n",
       "<style scoped>\n",
       "    .dataframe tbody tr th:only-of-type {\n",
       "        vertical-align: middle;\n",
       "    }\n",
       "\n",
       "    .dataframe tbody tr th {\n",
       "        vertical-align: top;\n",
       "    }\n",
       "\n",
       "    .dataframe thead th {\n",
       "        text-align: right;\n",
       "    }\n",
       "</style>\n",
       "<table border=\"1\" class=\"dataframe\">\n",
       "  <thead>\n",
       "    <tr style=\"text-align: right;\">\n",
       "      <th></th>\n",
       "      <th>User_ID</th>\n",
       "      <th>Name_game</th>\n",
       "      <th>purchase_play</th>\n",
       "      <th>Game_hours</th>\n",
       "    </tr>\n",
       "  </thead>\n",
       "  <tbody>\n",
       "    <tr>\n",
       "      <th>0</th>\n",
       "      <td>151603712</td>\n",
       "      <td>The Elder Scrolls V Skyrim</td>\n",
       "      <td>purchase</td>\n",
       "      <td>1.0</td>\n",
       "    </tr>\n",
       "    <tr>\n",
       "      <th>1</th>\n",
       "      <td>151603712</td>\n",
       "      <td>The Elder Scrolls V Skyrim</td>\n",
       "      <td>play</td>\n",
       "      <td>273.0</td>\n",
       "    </tr>\n",
       "    <tr>\n",
       "      <th>2</th>\n",
       "      <td>151603712</td>\n",
       "      <td>Fallout 4</td>\n",
       "      <td>purchase</td>\n",
       "      <td>1.0</td>\n",
       "    </tr>\n",
       "    <tr>\n",
       "      <th>3</th>\n",
       "      <td>151603712</td>\n",
       "      <td>Fallout 4</td>\n",
       "      <td>play</td>\n",
       "      <td>87.0</td>\n",
       "    </tr>\n",
       "    <tr>\n",
       "      <th>4</th>\n",
       "      <td>151603712</td>\n",
       "      <td>Spore</td>\n",
       "      <td>purchase</td>\n",
       "      <td>1.0</td>\n",
       "    </tr>\n",
       "    <tr>\n",
       "      <th>...</th>\n",
       "      <td>...</td>\n",
       "      <td>...</td>\n",
       "      <td>...</td>\n",
       "      <td>...</td>\n",
       "    </tr>\n",
       "    <tr>\n",
       "      <th>199995</th>\n",
       "      <td>128470551</td>\n",
       "      <td>Titan Souls</td>\n",
       "      <td>play</td>\n",
       "      <td>1.5</td>\n",
       "    </tr>\n",
       "    <tr>\n",
       "      <th>199996</th>\n",
       "      <td>128470551</td>\n",
       "      <td>Grand Theft Auto Vice City</td>\n",
       "      <td>purchase</td>\n",
       "      <td>1.0</td>\n",
       "    </tr>\n",
       "    <tr>\n",
       "      <th>199997</th>\n",
       "      <td>128470551</td>\n",
       "      <td>Grand Theft Auto Vice City</td>\n",
       "      <td>play</td>\n",
       "      <td>1.5</td>\n",
       "    </tr>\n",
       "    <tr>\n",
       "      <th>199998</th>\n",
       "      <td>128470551</td>\n",
       "      <td>RUSH</td>\n",
       "      <td>purchase</td>\n",
       "      <td>1.0</td>\n",
       "    </tr>\n",
       "    <tr>\n",
       "      <th>199999</th>\n",
       "      <td>128470551</td>\n",
       "      <td>RUSH</td>\n",
       "      <td>play</td>\n",
       "      <td>1.4</td>\n",
       "    </tr>\n",
       "  </tbody>\n",
       "</table>\n",
       "<p>200000 rows × 4 columns</p>\n",
       "</div>"
      ],
      "text/plain": [
       "          User_ID                   Name_game purchase_play  Game_hours\n",
       "0       151603712  The Elder Scrolls V Skyrim      purchase         1.0\n",
       "1       151603712  The Elder Scrolls V Skyrim          play       273.0\n",
       "2       151603712                   Fallout 4      purchase         1.0\n",
       "3       151603712                   Fallout 4          play        87.0\n",
       "4       151603712                       Spore      purchase         1.0\n",
       "...           ...                         ...           ...         ...\n",
       "199995  128470551                 Titan Souls          play         1.5\n",
       "199996  128470551  Grand Theft Auto Vice City      purchase         1.0\n",
       "199997  128470551  Grand Theft Auto Vice City          play         1.5\n",
       "199998  128470551                        RUSH      purchase         1.0\n",
       "199999  128470551                        RUSH          play         1.4\n",
       "\n",
       "[200000 rows x 4 columns]"
      ]
     },
     "execution_count": 4,
     "metadata": {},
     "output_type": "execute_result"
    }
   ],
   "source": [
    "df.drop(columns = ['0'], inplace =True) #удаляем столбец \"0\"\n",
    "df"
   ]
  },
  {
   "cell_type": "code",
   "execution_count": 5,
   "id": "dc565af5",
   "metadata": {},
   "outputs": [
    {
     "data": {
      "text/html": [
       "<div>\n",
       "<style scoped>\n",
       "    .dataframe tbody tr th:only-of-type {\n",
       "        vertical-align: middle;\n",
       "    }\n",
       "\n",
       "    .dataframe tbody tr th {\n",
       "        vertical-align: top;\n",
       "    }\n",
       "\n",
       "    .dataframe thead th {\n",
       "        text-align: right;\n",
       "    }\n",
       "</style>\n",
       "<table border=\"1\" class=\"dataframe\">\n",
       "  <thead>\n",
       "    <tr style=\"text-align: right;\">\n",
       "      <th></th>\n",
       "      <th>User_ID</th>\n",
       "      <th>Name_game</th>\n",
       "      <th>purchase_play</th>\n",
       "      <th>Game_hours</th>\n",
       "    </tr>\n",
       "  </thead>\n",
       "  <tbody>\n",
       "    <tr>\n",
       "      <th>0</th>\n",
       "      <td>151603712</td>\n",
       "      <td>The Elder Scrolls V Skyrim</td>\n",
       "      <td>purchase</td>\n",
       "      <td>1.0</td>\n",
       "    </tr>\n",
       "    <tr>\n",
       "      <th>1</th>\n",
       "      <td>151603712</td>\n",
       "      <td>The Elder Scrolls V Skyrim</td>\n",
       "      <td>play</td>\n",
       "      <td>273.0</td>\n",
       "    </tr>\n",
       "    <tr>\n",
       "      <th>2</th>\n",
       "      <td>151603712</td>\n",
       "      <td>Fallout 4</td>\n",
       "      <td>purchase</td>\n",
       "      <td>1.0</td>\n",
       "    </tr>\n",
       "    <tr>\n",
       "      <th>3</th>\n",
       "      <td>151603712</td>\n",
       "      <td>Fallout 4</td>\n",
       "      <td>play</td>\n",
       "      <td>87.0</td>\n",
       "    </tr>\n",
       "    <tr>\n",
       "      <th>4</th>\n",
       "      <td>151603712</td>\n",
       "      <td>Spore</td>\n",
       "      <td>purchase</td>\n",
       "      <td>1.0</td>\n",
       "    </tr>\n",
       "    <tr>\n",
       "      <th>...</th>\n",
       "      <td>...</td>\n",
       "      <td>...</td>\n",
       "      <td>...</td>\n",
       "      <td>...</td>\n",
       "    </tr>\n",
       "    <tr>\n",
       "      <th>199995</th>\n",
       "      <td>128470551</td>\n",
       "      <td>Titan Souls</td>\n",
       "      <td>play</td>\n",
       "      <td>1.5</td>\n",
       "    </tr>\n",
       "    <tr>\n",
       "      <th>199996</th>\n",
       "      <td>128470551</td>\n",
       "      <td>Grand Theft Auto Vice City</td>\n",
       "      <td>purchase</td>\n",
       "      <td>1.0</td>\n",
       "    </tr>\n",
       "    <tr>\n",
       "      <th>199997</th>\n",
       "      <td>128470551</td>\n",
       "      <td>Grand Theft Auto Vice City</td>\n",
       "      <td>play</td>\n",
       "      <td>1.5</td>\n",
       "    </tr>\n",
       "    <tr>\n",
       "      <th>199998</th>\n",
       "      <td>128470551</td>\n",
       "      <td>RUSH</td>\n",
       "      <td>purchase</td>\n",
       "      <td>1.0</td>\n",
       "    </tr>\n",
       "    <tr>\n",
       "      <th>199999</th>\n",
       "      <td>128470551</td>\n",
       "      <td>RUSH</td>\n",
       "      <td>play</td>\n",
       "      <td>1.4</td>\n",
       "    </tr>\n",
       "  </tbody>\n",
       "</table>\n",
       "<p>199293 rows × 4 columns</p>\n",
       "</div>"
      ],
      "text/plain": [
       "          User_ID                   Name_game purchase_play  Game_hours\n",
       "0       151603712  The Elder Scrolls V Skyrim      purchase         1.0\n",
       "1       151603712  The Elder Scrolls V Skyrim          play       273.0\n",
       "2       151603712                   Fallout 4      purchase         1.0\n",
       "3       151603712                   Fallout 4          play        87.0\n",
       "4       151603712                       Spore      purchase         1.0\n",
       "...           ...                         ...           ...         ...\n",
       "199995  128470551                 Titan Souls          play         1.5\n",
       "199996  128470551  Grand Theft Auto Vice City      purchase         1.0\n",
       "199997  128470551  Grand Theft Auto Vice City          play         1.5\n",
       "199998  128470551                        RUSH      purchase         1.0\n",
       "199999  128470551                        RUSH          play         1.4\n",
       "\n",
       "[199293 rows x 4 columns]"
      ]
     },
     "execution_count": 5,
     "metadata": {},
     "output_type": "execute_result"
    }
   ],
   "source": [
    "df.drop_duplicates(inplace=True) #удаляем дубликаты\n",
    "df"
   ]
  },
  {
   "cell_type": "code",
   "execution_count": 6,
   "id": "bdb6e42a",
   "metadata": {},
   "outputs": [
    {
     "data": {
      "text/plain": [
       "User_ID          0\n",
       "Name_game        0\n",
       "purchase_play    0\n",
       "Game_hours       0\n",
       "dtype: int64"
      ]
     },
     "execution_count": 6,
     "metadata": {},
     "output_type": "execute_result"
    }
   ],
   "source": [
    "df.isnull().sum() # Не пропало ни одно значение"
   ]
  },
  {
   "cell_type": "code",
   "execution_count": 7,
   "id": "3e82e4e4",
   "metadata": {},
   "outputs": [
    {
     "data": {
      "text/plain": [
       "(199293, 4)"
      ]
     },
     "execution_count": 7,
     "metadata": {},
     "output_type": "execute_result"
    }
   ],
   "source": [
    "df.shape #199293 записей"
   ]
  },
  {
   "cell_type": "code",
   "execution_count": 8,
   "id": "24c3e99f",
   "metadata": {},
   "outputs": [
    {
     "name": "stdout",
     "output_type": "stream",
     "text": [
      "<class 'pandas.core.frame.DataFrame'>\n",
      "Int64Index: 199293 entries, 0 to 199999\n",
      "Data columns (total 4 columns):\n",
      " #   Column         Non-Null Count   Dtype  \n",
      "---  ------         --------------   -----  \n",
      " 0   User_ID        199293 non-null  int64  \n",
      " 1   Name_game      199293 non-null  object \n",
      " 2   purchase_play  199293 non-null  object \n",
      " 3   Game_hours     199293 non-null  float64\n",
      "dtypes: float64(1), int64(1), object(2)\n",
      "memory usage: 7.6+ MB\n"
     ]
    }
   ],
   "source": [
    "df.info()"
   ]
  },
  {
   "cell_type": "code",
   "execution_count": 9,
   "id": "01e6d84f",
   "metadata": {},
   "outputs": [
    {
     "data": {
      "text/plain": [
       "array(['The Elder Scrolls V Skyrim', 'Fallout 4', 'Spore', ...,\n",
       "       'Space Colony', 'Life is Hard', 'Executive Assault'], dtype=object)"
      ]
     },
     "execution_count": 9,
     "metadata": {},
     "output_type": "execute_result"
    }
   ],
   "source": [
    "games = df['Name_game'].unique() #Все игры\n",
    "games"
   ]
  },
  {
   "cell_type": "code",
   "execution_count": 10,
   "id": "f060d83d",
   "metadata": {},
   "outputs": [
    {
     "data": {
      "text/plain": [
       "Dota 2                                  9682\n",
       "Team Fortress 2                         4646\n",
       "Counter-Strike Global Offensive         2789\n",
       "Unturned                                2632\n",
       "Left 4 Dead 2                           1752\n",
       "                                        ... \n",
       "FORCED Original Soundtrack                 1\n",
       "Zen of Sudoku                              1\n",
       "Ballads of Reemus When the Bed Bites       1\n",
       "Blood & Gold Caribbean!                    1\n",
       "Jamsouls                                   1\n",
       "Name: Name_game, Length: 5155, dtype: int64"
      ]
     },
     "execution_count": 10,
     "metadata": {},
     "output_type": "execute_result"
    }
   ],
   "source": [
    "df['Name_game'].value_counts() # Количество уникальных строк с играми"
   ]
  },
  {
   "cell_type": "code",
   "execution_count": 11,
   "id": "32034748",
   "metadata": {},
   "outputs": [
    {
     "data": {
      "text/plain": [
       "purchase    128804\n",
       "play         70489\n",
       "Name: purchase_play, dtype: int64"
      ]
     },
     "execution_count": 11,
     "metadata": {},
     "output_type": "execute_result"
    }
   ],
   "source": [
    "df['purchase_play'].value_counts() # количество тех, кто купил и кто играл"
   ]
  },
  {
   "cell_type": "code",
   "execution_count": 12,
   "id": "9ff5d641",
   "metadata": {},
   "outputs": [
    {
     "data": {
      "text/plain": [
       "<AxesSubplot: >"
      ]
     },
     "execution_count": 12,
     "metadata": {},
     "output_type": "execute_result"
    },
    {
     "data": {
      "image/png": "[encoded data removed]",
      "text/plain": [
       "<Figure size 432x288 with 1 Axes>"
      ]
     },
     "metadata": {
      "needs_background": "light"
     },
     "output_type": "display_data"
    }
   ],
   "source": [
    "df['Name_game'].value_counts().head(10).plot(kind = 'bar') # Первые 10 игр с наибольшим количеством часов"
   ]
  },
  {
   "cell_type": "code",
   "execution_count": 13,
   "id": "8293b291",
   "metadata": {},
   "outputs": [],
   "source": [
    "df['purchase_play'] = df['purchase_play'].replace({'purchase': 0, 'play': 1})"
   ]
  },
  {
   "cell_type": "markdown",
   "id": "447a9d5d",
   "metadata": {},
   "source": [
    "### Модель и обучение модели\n"
   ]
  },
  {
   "cell_type": "code",
   "execution_count": 14,
   "id": "6319f833",
   "metadata": {},
   "outputs": [],
   "source": [
    "from surprise import Dataset, Reader, SVD\n",
    "from surprise.model_selection import train_test_split"
   ]
  },
  {
   "cell_type": "markdown",
   "id": "8d274983",
   "metadata": {},
   "source": [
    "Класс Reader используется для анализа файла, содержащего рейтинги, определяет формат данных."
   ]
  },
  {
   "cell_type": "code",
   "execution_count": 15,
   "id": "fc63e485",
   "metadata": {},
   "outputs": [],
   "source": [
    "# создание объекта Reader\n",
    "reader = Reader(rating_scale=(0, 1))\n",
    "# создание объекта Dataset\n",
    "data = Dataset.load_from_df(df[['User_ID', 'Name_game', 'purchase_play']], reader)"
   ]
  },
  {
   "cell_type": "code",
   "execution_count": 16,
   "id": "88b2ad0e",
   "metadata": {},
   "outputs": [],
   "source": [
    "# Разделение данных на обучающую и тестовую выборки\n",
    "train_data, test_data = train_test_split(data, test_size=0.2)"
   ]
  },
  {
   "cell_type": "markdown",
   "id": "5b636bc7",
   "metadata": {},
   "source": [
    "SVD (Singular Value Decomposition) - это один из наиболее популярных алгоритмов рекомендательных систем. В библиотеке Surprise реализована модель SVD, которая использует SVD для прогнозирования оценок пользователей для элементов.\n",
    "\n",
    "Модель SVD в библиотеке Surprise использует матричный подход для рекомендаций. Она представляет оценки пользователей и элементов в виде матрицы, где строки соответствуют пользователям, а столбцы - элементам. Затем она применяет SVD для разложения этой матрицы на три матрицы: матрицу пользователей, матрицу элементов и матрицу сингулярных значений.\n",
    "\n",
    "Модель SVD в библиотеке Surprise может использоваться для прогнозирования оценок пользователей для элементов, а также для ранжирования элементов по предсказанным оценкам. Она может быть использована для рекомендаций в различных областях, таких как фильмы, музыка, книги и т.д."
   ]
  },
  {
   "cell_type": "code",
   "execution_count": 17,
   "id": "a71387b4",
   "metadata": {},
   "outputs": [],
   "source": [
    "# Создание модели SVD \n",
    "model = SVD(n_factors=100, n_epochs=100, lr_all=0.001, reg_all=0.02)"
   ]
  },
  {
   "cell_type": "code",
   "execution_count": 18,
   "id": "51b8df0d",
   "metadata": {},
   "outputs": [
    {
     "name": "stdout",
     "output_type": "stream",
     "text": [
      "Evaluating RMSE, MAE of algorithm SVD on 5 split(s).\n",
      "\n",
      "                  Fold 1  Fold 2  Fold 3  Fold 4  Fold 5  Mean    Std     \n",
      "RMSE (testset)    0.4956  0.4974  0.4959  0.4960  0.4964  0.4963  0.0006  \n",
      "MAE (testset)     0.4520  0.4530  0.4518  0.4522  0.4526  0.4523  0.0004  \n",
      "Fit time          77.33   67.54   49.19   48.62   48.24   58.18   12.04   \n",
      "Test time         0.43    0.39    0.35    0.33    0.35    0.37    0.03    \n"
     ]
    }
   ],
   "source": [
    "#Кросс-валидация модели\n",
    "from surprise.model_selection import cross_validate\n",
    "cv_results = cross_validate(model, data, cv=5, verbose=True)"
   ]
  },
  {
   "cell_type": "code",
   "execution_count": 19,
   "id": "f21d4309",
   "metadata": {},
   "outputs": [
    {
     "name": "stdout",
     "output_type": "stream",
     "text": [
      "RMSE: 0.49625878176214416\n",
      "MAE: 0.45231206118979095\n"
     ]
    }
   ],
   "source": [
    "print('RMSE:', cv_results['test_rmse'].mean())\n",
    "print('MAE:', cv_results['test_mae'].mean())"
   ]
  },
  {
   "cell_type": "code",
   "execution_count": 20,
   "id": "443eb097",
   "metadata": {},
   "outputs": [
    {
     "data": {
      "text/plain": [
       "<surprise.prediction_algorithms.matrix_factorization.SVD at 0x2970b082b80>"
      ]
     },
     "execution_count": 20,
     "metadata": {},
     "output_type": "execute_result"
    }
   ],
   "source": [
    "# Обучение модели на обучающей выборке\n",
    "model.fit(train_data)"
   ]
  },
  {
   "cell_type": "code",
   "execution_count": 21,
   "id": "a487745d",
   "metadata": {},
   "outputs": [],
   "source": [
    "# функция рекомендаций для пользователя\n",
    "def get_recommendations(user_id, num_recommendations):\n",
    "    # получение списка игр, которые пользователь еще не играл\n",
    "    unplayed_games = df.loc[~df['Name_game'].isin(df.loc[df['User_ID'] == user_id]['Name_game'])]['Name_game'].unique()\n",
    "\n",
    "    # создание списка кортежей с предсказанными рейтингами для игр, которые пользователь еще не играл\n",
    "    predicted_ratings = [(game, model.predict(user_id, game).est) for game in unplayed_games]\n",
    "\n",
    "    # сортировка списка по убыванию предсказанных рейтингов и выбор топ-рекомендаций\n",
    "    recommendations = sorted(predicted_ratings, key=lambda x: x[1], reverse=True)[:num_recommendations]\n",
    "\n",
    "    # создание DataFrame с рекомендациями\n",
    "    recommendations_df = pd.DataFrame(recommendations, columns=['Name_game', 'predicted_rating'])\n",
    "    \n",
    "    # получение списка игр, которые пользователь уже играл\n",
    "    played_games = df.loc[df['User_ID'] == user_id]['Name_game'].unique()\n",
    "\n",
    "    # создание DataFrame с играми, которые пользователь уже играл\n",
    "    played_games_df = pd.DataFrame(played_games, columns=['Name_game'])\n",
    "\n",
    "    # объединение DataFrame с рекомендациями и DataFrame с играми, которые пользователь уже играл\n",
    "    recommendations_df = pd.merge(recommendations_df, played_games_df, on='Name_game', how='left')\n",
    "\n",
    "    # вывод информации о пользователе и играх, которые он уже играл\n",
    "    print(f\"Пользователь с ID {user_id} играл в следующие игры:\")\n",
    "    print(played_games)\n",
    "\n",
    "    return recommendations_df"
   ]
  },
  {
   "cell_type": "code",
   "execution_count": 22,
   "id": "822263fe",
   "metadata": {},
   "outputs": [
    {
     "name": "stdout",
     "output_type": "stream",
     "text": [
      "Пользователь с ID 128470551 играл в следующие игры:\n",
      "['The Binding of Isaac Rebirth' 'Path of Exile' 'Arma 2 DayZ Mod'\n",
      " 'Antichamber' 'Risk of Rain' 'OlliOlli' 'Hammerwatch' 'Torchlight II'\n",
      " 'Nether' 'Rogue Legacy' 'Mortal Kombat Komplete Edition' 'Fallen Earth'\n",
      " 'Magic Duels' 'Titan Souls' 'Grand Theft Auto Vice City' 'RUSH']\n"
     ]
    },
    {
     "data": {
      "text/html": [
       "<div>\n",
       "<style scoped>\n",
       "    .dataframe tbody tr th:only-of-type {\n",
       "        vertical-align: middle;\n",
       "    }\n",
       "\n",
       "    .dataframe tbody tr th {\n",
       "        vertical-align: top;\n",
       "    }\n",
       "\n",
       "    .dataframe thead th {\n",
       "        text-align: right;\n",
       "    }\n",
       "</style>\n",
       "<table border=\"1\" class=\"dataframe\">\n",
       "  <thead>\n",
       "    <tr style=\"text-align: right;\">\n",
       "      <th></th>\n",
       "      <th>Name_game</th>\n",
       "      <th>predicted_rating</th>\n",
       "    </tr>\n",
       "  </thead>\n",
       "  <tbody>\n",
       "    <tr>\n",
       "      <th>0</th>\n",
       "      <td>D.I.P.R.I.P. Warm Up</td>\n",
       "      <td>0.830633</td>\n",
       "    </tr>\n",
       "    <tr>\n",
       "      <th>1</th>\n",
       "      <td>Command and Conquer 4 Tiberian Twilight</td>\n",
       "      <td>0.825309</td>\n",
       "    </tr>\n",
       "    <tr>\n",
       "      <th>2</th>\n",
       "      <td>Nidhogg</td>\n",
       "      <td>0.820722</td>\n",
       "    </tr>\n",
       "    <tr>\n",
       "      <th>3</th>\n",
       "      <td>Section 8 Prejudice</td>\n",
       "      <td>0.818158</td>\n",
       "    </tr>\n",
       "    <tr>\n",
       "      <th>4</th>\n",
       "      <td>Yury</td>\n",
       "      <td>0.812503</td>\n",
       "    </tr>\n",
       "  </tbody>\n",
       "</table>\n",
       "</div>"
      ],
      "text/plain": [
       "                                 Name_game  predicted_rating\n",
       "0                     D.I.P.R.I.P. Warm Up          0.830633\n",
       "1  Command and Conquer 4 Tiberian Twilight          0.825309\n",
       "2                                  Nidhogg          0.820722\n",
       "3                      Section 8 Prejudice          0.818158\n",
       "4                                     Yury          0.812503"
      ]
     },
     "execution_count": 22,
     "metadata": {},
     "output_type": "execute_result"
    }
   ],
   "source": [
    "get_recommendations(128470551, 5)"
   ]
  },
  {
   "cell_type": "code",
   "execution_count": null,
   "id": "04df7e80",
   "metadata": {},
   "outputs": [],
   "source": []
  }
 ],
 "metadata": {
  "kernelspec": {
   "display_name": "Python 3",
   "language": "python",
   "name": "python3"
  },
  "language_info": {
   "codemirror_mode": {
    "name": "ipython",
    "version": 3
   },
   "file_extension": ".py",
   "mimetype": "text/x-python",
   "name": "python",
   "nbconvert_exporter": "python",
   "pygments_lexer": "ipython3",
   "version": "3.8.8"
  }
 },
 "nbformat": 4,
 "nbformat_minor": 5
}
